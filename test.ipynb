{
 "cells": [
  {
   "cell_type": "markdown",
   "id": "804e06bd-62e0-490d-ac08-40dc0a4bcf50",
   "metadata": {},
   "source": [
    "This is to test question 8 of assignment 2 - DSCI 310"
   ]
  },
  {
   "cell_type": "code",
   "execution_count": 2,
   "id": "77d7a7e3-8c4e-4777-b230-71aba909f1bc",
   "metadata": {},
   "outputs": [
    {
     "data": {
      "text/html": [
       "1080"
      ],
      "text/latex": [
       "1080"
      ],
      "text/markdown": [
       "1080"
      ],
      "text/plain": [
       "[1] 1080"
      ]
     },
     "metadata": {},
     "output_type": "display_data"
    }
   ],
   "source": [
    "x <- 23\n",
    "y <- 45\n",
    "my_answer <- x*y + y\n",
    "my_answer"
   ]
  },
  {
   "cell_type": "code",
   "execution_count": null,
   "id": "a192de96-4de3-44d7-a56d-52af31568900",
   "metadata": {},
   "outputs": [],
   "source": []
  }
 ],
 "metadata": {
  "kernelspec": {
   "display_name": "R",
   "language": "R",
   "name": "ir"
  },
  "language_info": {
   "codemirror_mode": "r",
   "file_extension": ".r",
   "mimetype": "text/x-r-source",
   "name": "R",
   "pygments_lexer": "r",
   "version": "4.1.2"
  }
 },
 "nbformat": 4,
 "nbformat_minor": 5
}
